{
 "cells": [
  {
   "cell_type": "code",
   "execution_count": 2,
   "id": "b83278cb-13db-4676-9b42-e9a5a7972cf7",
   "metadata": {
    "execution": {
     "iopub.execute_input": "2024-04-01T12:52:59.439904Z",
     "iopub.status.busy": "2024-04-01T12:52:59.438574Z",
     "iopub.status.idle": "2024-04-01T12:52:59.449078Z",
     "shell.execute_reply": "2024-04-01T12:52:59.447356Z",
     "shell.execute_reply.started": "2024-04-01T12:52:59.439767Z"
    }
   },
   "outputs": [],
   "source": [
    "#Token Intersection Ratio Score"
   ]
  },
  {
   "cell_type": "code",
   "execution_count": 1,
   "id": "3411fbbf-615c-4d6e-99e9-2d380e0a6b73",
   "metadata": {
    "execution": {
     "iopub.execute_input": "2024-04-03T04:40:43.327760Z",
     "iopub.status.busy": "2024-04-03T04:40:43.326974Z",
     "iopub.status.idle": "2024-04-03T04:40:43.349540Z",
     "shell.execute_reply": "2024-04-03T04:40:43.347928Z",
     "shell.execute_reply.started": "2024-04-03T04:40:43.327688Z"
    }
   },
   "outputs": [],
   "source": [
    "def self_intersection_n(dataset, n, seed=0):\n",
    "    \"\"\"\n",
    "    train data 용\n",
    "    자기 자신을 n 분할하여 교집합 토큰을 구한다. 개수는 세지 않는다\n",
    "    dataset: dataset 객체를 받는다\n",
    "    n: 분할수\n",
    "    seed: 데이터 random seed로 섞는다\n",
    "    \"\"\"\n",
    "    # 데이터셋을 섞고 데이터 개수를 센다.\n",
    "    dataset = dataset.shuffle(seed=seed)\n",
    "    l = dataset.num_rows\n",
    "\n",
    "    # 데이터개수를 n개로 슬라이싱하여 리스트에 담는다. 리스트에 담는 이유는 for문 돌릴려고\n",
    "    # 빈 토큰 set을 n개만큼 생성하여 리스트에 담는다.\n",
    "    data_split = [dataset[l*i//n:l*(i+1)//n] for i in range(n)]\n",
    "    token_split = [set() for i in range(n)]\n",
    "\n",
    "    # 슬라이싱된 집합을 돌면서 token들을 set에 넣는다\n",
    "    for k in range(n):\n",
    "        embeddings = tokenizer(data_split[k]['text'])['input_ids']\n",
    "        for i in embeddings:\n",
    "            for j in i:\n",
    "                token_split[k].add(j)\n",
    "\n",
    "    # 모든 set들의 교집합을 구히여 self 교집합을 구한다.\n",
    "    self_intersection = token_split[0]\n",
    "    for i in range(1,n):\n",
    "        self_intersection = self_intersection & token_split[i]\n",
    "\n",
    "    # 교집합을 반환한다.\n",
    "    return self_intersection"
   ]
  },
  {
   "cell_type": "code",
   "execution_count": 2,
   "id": "128bbe07-9a23-45c6-8c6f-562967dacea5",
   "metadata": {
    "execution": {
     "iopub.execute_input": "2024-04-03T04:40:43.727557Z",
     "iopub.status.busy": "2024-04-03T04:40:43.726160Z",
     "iopub.status.idle": "2024-04-03T04:40:43.743553Z",
     "shell.execute_reply": "2024-04-03T04:40:43.741957Z",
     "shell.execute_reply.started": "2024-04-03T04:40:43.727473Z"
    }
   },
   "outputs": [],
   "source": [
    "def core_token_counter_n(dataset, intersection, n, seed=0):\n",
    "    \"\"\"\n",
    "    valid data 용\n",
    "    자기 자신을 n 분할하여 교집합 토큰을 구하고, 전체 교집합을 제한다. 개수도 저장한다.\n",
    "    dataset: dataset 객체를 받는다\n",
    "    intersection: 전체 교집합. self 교집합에서 제외하기 위해 받는다.\n",
    "    n: 분할수 \n",
    "    seed: 데이터 random seed로 섞는다\n",
    "    \"\"\"\n",
    "    # 데이터셋을 섞고 데이터 개수를 센다.\n",
    "    dataset = dataset.shuffle(seed=seed)\n",
    "    l = dataset.num_rows\n",
    "    \n",
    "    # 토큰 개수를 저장할 딕셔너리를 생성한다.\n",
    "    token_counter = {}\n",
    "    # 코어 토큰만 저장할 딕셔너리를 생성한다.\n",
    "    core = {}\n",
    "\n",
    "    # 데이터개수를 n개로 슬라이싱하여 리스트에 담는다.\n",
    "    # 빈 토큰 set을 n개만큼 생성하여 리스트에 담는다.\n",
    "    data_split = [dataset[l*i//n:l*(i+1)//n] for i in range(n)]\n",
    "    token_split = [set() for i in range(n)]\n",
    "\n",
    "    # 슬라이싱된 데이터를 돌면서 set에도 넣으면서 빈도수도 딕셔너리에 저장한다.\n",
    "    for k in range(n):\n",
    "        embeddings = tokenizer(data_split[k]['text'])['input_ids']\n",
    "        for i in embeddings:\n",
    "            for j in i:\n",
    "                token_split[k].add(j)\n",
    "                if j in token_counter:\n",
    "                    token_counter[j] += 1\n",
    "                else:\n",
    "                    token_counter[j] = 1\n",
    "\n",
    "    # 분할 set끼리의 교집합을 구하여 self 교집합을 구한다.\n",
    "    self_intersection = token_split[0]\n",
    "    for i in range(1,n):\n",
    "        self_intersection = self_intersection & token_split[i]\n",
    "\n",
    "    # 딕셔너리를 돌면서 self 교집함에 존재하면 core 딕셔너리에 추가한다 (원래 딕셔너리에서 삭제하는 방법은 for문을 망가지게 한다)\n",
    "    for i in token_counter:\n",
    "        if i in self_intersection:\n",
    "            core[i] = token_counter[i]\n",
    "\n",
    "    # 코어 token과 빈도수를 가진 딕셔너리를 반환\n",
    "    return core"
   ]
  },
  {
   "cell_type": "code",
   "execution_count": 31,
   "id": "8679655a-feb7-40fc-b0f0-dd394fb4df87",
   "metadata": {
    "execution": {
     "iopub.execute_input": "2024-04-03T06:06:18.649646Z",
     "iopub.status.busy": "2024-04-03T06:06:18.648818Z",
     "iopub.status.idle": "2024-04-03T06:06:18.665185Z",
     "shell.execute_reply": "2024-04-03T06:06:18.663775Z",
     "shell.execute_reply.started": "2024-04-03T06:06:18.649580Z"
    }
   },
   "outputs": [],
   "source": [
    "from time import time\n",
    "def compute_TRS(train1, train2, valid, n=3, seed=0):\n",
    "    \"\"\"\n",
    "    점수를 계산한다.\n",
    "    train1: 집단 1 데이터셋\n",
    "    train2: 집단 2 데이터셋\n",
    "    valid: 확인하고싶은 데이터셋\n",
    "    n: 분할 수\n",
    "    seed: 데이터 shuffle 랜덤 시드\n",
    "    \"\"\"\n",
    "    start = time()\n",
    "    # 집단 1,2 에 대해 self 교집합을 구한다.\n",
    "    train1_intersection = self_intersection_n(train1, n, seed)\n",
    "    train2_intersection = self_intersection_n(train2, n, seed)\n",
    "\n",
    "    # 집단 1,2 self 교집합끼리의 교집합을 구해 전체 교집합을 구한다.\n",
    "    intersection = train1_intersection & train2_intersection\n",
    "\n",
    "    # 집단 1,2의 self 교집합에서 전체 교집합을 구해 각각의 core token을 구한다\n",
    "    train1_core = train1_intersection - intersection\n",
    "    train2_core = train2_intersection - intersection\n",
    "\n",
    "    # 확인할 데이터셋의 core token을 구한다\n",
    "    val_core = core_token_counter_n(valid, intersection, n, seed)\n",
    "\n",
    "    # 점수 초기화\n",
    "    score1 = 0\n",
    "    score2 = 0\n",
    "\n",
    "    # 확인할 데이터셋의 core token에서 token을 하나씩 꺼내와 집단 1,2 중 어느쪽에 존재하는지 확인한다. 없다면 패스 있다면 점수를 1점 올려준다.\n",
    "    for i in val_core:\n",
    "        if i in train1_core:\n",
    "            score1 += 1\n",
    "        elif i in train2_core:\n",
    "            score2 += 1\n",
    "    end = time()\n",
    "    # 출력, 모종의 오류를 확인하기 위해 정답을 2번 그룹으로 두었다.\n",
    "    print(score1, score2)\n",
    "    print(f\"n: {n} seed: {seed} | group1: {score1*100/(score1+score2)}% | group2: {score2*100/(score1+score2)} | {(end - start):.3f}sec\")\n",
    "    return score2*100/(score1+score2), end-start"
   ]
  },
  {
   "cell_type": "code",
   "execution_count": 11,
   "id": "f031dba4-8335-4f62-b85c-3cd1e4814276",
   "metadata": {
    "execution": {
     "iopub.execute_input": "2024-04-03T04:42:36.769384Z",
     "iopub.status.busy": "2024-04-03T04:42:36.768665Z",
     "iopub.status.idle": "2024-04-03T04:42:36.780187Z",
     "shell.execute_reply": "2024-04-03T04:42:36.778369Z",
     "shell.execute_reply.started": "2024-04-03T04:42:36.769321Z"
    }
   },
   "outputs": [
    {
     "data": {
      "text/plain": [
       "'\\n__________________________________________________\\n\\n예시 코드\\n__________________________________________________\\n'"
      ]
     },
     "execution_count": 11,
     "metadata": {},
     "output_type": "execute_result"
    }
   ],
   "source": [
    "'''\n",
    "__________________________________________________\n",
    "\n",
    "예시 코드\n",
    "__________________________________________________\n",
    "'''"
   ]
  },
  {
   "cell_type": "code",
   "execution_count": 5,
   "id": "cc90db5e-774d-4e7f-88aa-a56c88bc89a5",
   "metadata": {
    "execution": {
     "iopub.execute_input": "2024-04-03T04:40:45.979083Z",
     "iopub.status.busy": "2024-04-03T04:40:45.978171Z",
     "iopub.status.idle": "2024-04-03T04:40:57.865060Z",
     "shell.execute_reply": "2024-04-03T04:40:57.863313Z",
     "shell.execute_reply.started": "2024-04-03T04:40:45.979014Z"
    }
   },
   "outputs": [],
   "source": [
    "# 토큰으로 찢기 위해 토크나이저를 불러옴. 어떤 것을 사용해도 상관없지만 BERT Tokenizer 사용. 다른거 사용해봐도 좋을듯\n",
    "from transformers import AutoTokenizer\n",
    "import torch\n",
    "\n",
    "tokenizer = AutoTokenizer.from_pretrained(\"google-bert/bert-base-uncased\")"
   ]
  },
  {
   "cell_type": "code",
   "execution_count": 6,
   "id": "6b224830-a184-4423-87e7-1bc987380495",
   "metadata": {
    "execution": {
     "iopub.execute_input": "2024-04-03T04:40:57.868040Z",
     "iopub.status.busy": "2024-04-03T04:40:57.867382Z",
     "iopub.status.idle": "2024-04-03T04:41:12.477351Z",
     "shell.execute_reply": "2024-04-03T04:41:12.475603Z",
     "shell.execute_reply.started": "2024-04-03T04:40:57.868004Z"
    }
   },
   "outputs": [],
   "source": [
    "# 데이터셋 로드. 블로그에서 추출한 말뭉치 데이터셋 사용해보았음.\n",
    "from datasets import load_dataset\n",
    "dataset = load_dataset(\"blog_authorship_corpus\")"
   ]
  },
  {
   "cell_type": "code",
   "execution_count": 7,
   "id": "b20e7f53-723d-4726-a3c6-f83bd84d32fa",
   "metadata": {
    "execution": {
     "iopub.execute_input": "2024-04-03T04:41:12.480789Z",
     "iopub.status.busy": "2024-04-03T04:41:12.479755Z",
     "iopub.status.idle": "2024-04-03T04:41:12.612626Z",
     "shell.execute_reply": "2024-04-03T04:41:12.610853Z",
     "shell.execute_reply.started": "2024-04-03T04:41:12.480722Z"
    }
   },
   "outputs": [],
   "source": [
    "# 16, 34살의 trian 데이터를 가져와 text만 뽑는다 \n",
    "underage_data = dataset[\"train\"].filter(lambda x: x[\"age\"] == 16).select_columns([\"text\"])\n",
    "old_data = dataset[\"train\"].filter(lambda x: x[\"age\"] == 34).select_columns([\"text\"])\n",
    "# 16살 valid 데이터를 가져와 text만 뽑는다\n",
    "underage_val = dataset[\"validation\"].filter(lambda x: x[\"age\"] == 16).select_columns([\"text\"])"
   ]
  },
  {
   "cell_type": "code",
   "execution_count": 33,
   "id": "6a2b8f35-2749-469a-afdd-e677070c9733",
   "metadata": {
    "execution": {
     "iopub.execute_input": "2024-04-03T06:40:03.869047Z",
     "iopub.status.busy": "2024-04-03T06:40:03.867989Z",
     "iopub.status.idle": "2024-04-03T07:00:44.128929Z",
     "shell.execute_reply": "2024-04-03T07:00:44.127492Z",
     "shell.execute_reply.started": "2024-04-03T06:40:03.868961Z"
    }
   },
   "outputs": [
    {
     "name": "stdout",
     "output_type": "stream",
     "text": [
      "0 5\n",
      "n: 30 seed: 0 | group1: 0.0% | group2: 100.0 | 29.597sec\n",
      "0 3\n",
      "n: 30 seed: 1 | group1: 0.0% | group2: 100.0 | 30.215sec\n",
      "0 9\n",
      "n: 30 seed: 2 | group1: 0.0% | group2: 100.0 | 29.942sec\n",
      "0 4\n",
      "n: 30 seed: 3 | group1: 0.0% | group2: 100.0 | 29.580sec\n",
      "0 4\n",
      "n: 30 seed: 4 | group1: 0.0% | group2: 100.0 | 29.430sec\n",
      "0 7\n",
      "n: 30 seed: 5 | group1: 0.0% | group2: 100.0 | 29.773sec\n",
      "0 6\n",
      "n: 30 seed: 6 | group1: 0.0% | group2: 100.0 | 29.922sec\n",
      "0 5\n",
      "n: 30 seed: 7 | group1: 0.0% | group2: 100.0 | 29.873sec\n",
      "0 5\n",
      "n: 30 seed: 8 | group1: 0.0% | group2: 100.0 | 29.503sec\n",
      "0 4\n",
      "n: 30 seed: 9 | group1: 0.0% | group2: 100.0 | 30.003sec\n",
      "100.0 29.783785700798035\n",
      "0 7\n",
      "n: 35 seed: 0 | group1: 0.0% | group2: 100.0 | 30.233sec\n",
      "0 4\n",
      "n: 35 seed: 1 | group1: 0.0% | group2: 100.0 | 29.778sec\n",
      "0 4\n",
      "n: 35 seed: 2 | group1: 0.0% | group2: 100.0 | 30.223sec\n",
      "0 5\n",
      "n: 35 seed: 3 | group1: 0.0% | group2: 100.0 | 29.898sec\n",
      "0 5\n",
      "n: 35 seed: 4 | group1: 0.0% | group2: 100.0 | 29.688sec\n",
      "0 2\n",
      "n: 35 seed: 5 | group1: 0.0% | group2: 100.0 | 29.542sec\n",
      "0 4\n",
      "n: 35 seed: 6 | group1: 0.0% | group2: 100.0 | 29.358sec\n",
      "0 5\n",
      "n: 35 seed: 7 | group1: 0.0% | group2: 100.0 | 29.523sec\n",
      "0 1\n",
      "n: 35 seed: 8 | group1: 0.0% | group2: 100.0 | 29.652sec\n",
      "0 4\n",
      "n: 35 seed: 9 | group1: 0.0% | group2: 100.0 | 29.449sec\n",
      "100.0 29.734418034553528\n",
      "0 4\n",
      "n: 40 seed: 0 | group1: 0.0% | group2: 100.0 | 29.488sec\n",
      "0 2\n",
      "n: 40 seed: 1 | group1: 0.0% | group2: 100.0 | 29.478sec\n",
      "0 3\n",
      "n: 40 seed: 2 | group1: 0.0% | group2: 100.0 | 29.409sec\n",
      "0 2\n",
      "n: 40 seed: 3 | group1: 0.0% | group2: 100.0 | 30.178sec\n",
      "0 2\n",
      "n: 40 seed: 4 | group1: 0.0% | group2: 100.0 | 29.319sec\n",
      "0 3\n",
      "n: 40 seed: 5 | group1: 0.0% | group2: 100.0 | 29.675sec\n",
      "0 5\n",
      "n: 40 seed: 6 | group1: 0.0% | group2: 100.0 | 29.541sec\n",
      "0 3\n",
      "n: 40 seed: 7 | group1: 0.0% | group2: 100.0 | 29.710sec\n",
      "0 4\n",
      "n: 40 seed: 8 | group1: 0.0% | group2: 100.0 | 29.941sec\n",
      "0 5\n",
      "n: 40 seed: 9 | group1: 0.0% | group2: 100.0 | 29.108sec\n",
      "100.0 29.584616804122923\n",
      "0 4\n",
      "n: 45 seed: 0 | group1: 0.0% | group2: 100.0 | 29.528sec\n",
      "0 3\n",
      "n: 45 seed: 1 | group1: 0.0% | group2: 100.0 | 29.831sec\n",
      "0 3\n",
      "n: 45 seed: 2 | group1: 0.0% | group2: 100.0 | 30.342sec\n",
      "0 3\n",
      "n: 45 seed: 3 | group1: 0.0% | group2: 100.0 | 29.259sec\n",
      "0 2\n",
      "n: 45 seed: 4 | group1: 0.0% | group2: 100.0 | 29.113sec\n",
      "0 1\n",
      "n: 45 seed: 5 | group1: 0.0% | group2: 100.0 | 29.468sec\n",
      "0 2\n",
      "n: 45 seed: 6 | group1: 0.0% | group2: 100.0 | 29.293sec\n",
      "0 3\n",
      "n: 45 seed: 7 | group1: 0.0% | group2: 100.0 | 29.675sec\n",
      "0 5\n",
      "n: 45 seed: 8 | group1: 0.0% | group2: 100.0 | 29.303sec\n",
      "0 4\n",
      "n: 45 seed: 9 | group1: 0.0% | group2: 100.0 | 29.676sec\n",
      "100.0 29.548796463012696\n",
      "0 3\n",
      "n: 50 seed: 0 | group1: 0.0% | group2: 100.0 | 29.996sec\n"
     ]
    },
    {
     "ename": "KeyboardInterrupt",
     "evalue": "",
     "output_type": "error",
     "traceback": [
      "\u001b[0;31m---------------------------------------------------------------------------\u001b[0m",
      "\u001b[0;31mKeyboardInterrupt\u001b[0m                         Traceback (most recent call last)",
      "Cell \u001b[0;32mIn[33], line 6\u001b[0m\n\u001b[1;32m      4\u001b[0m meanT \u001b[38;5;241m=\u001b[39m \u001b[38;5;241m0\u001b[39m\n\u001b[1;32m      5\u001b[0m \u001b[38;5;28;01mfor\u001b[39;00m i \u001b[38;5;129;01min\u001b[39;00m \u001b[38;5;28mrange\u001b[39m(\u001b[38;5;241m10\u001b[39m):\n\u001b[0;32m----> 6\u001b[0m     score, t \u001b[38;5;241m=\u001b[39m \u001b[43mcompute_TRS\u001b[49m\u001b[43m(\u001b[49m\u001b[43mold_data\u001b[49m\u001b[43m,\u001b[49m\u001b[43m \u001b[49m\u001b[43munderage_data\u001b[49m\u001b[43m,\u001b[49m\u001b[43m \u001b[49m\u001b[43munderage_val\u001b[49m\u001b[43m,\u001b[49m\u001b[43m \u001b[49m\u001b[43mn\u001b[49m\u001b[38;5;241;43m=\u001b[39;49m\u001b[43mn\u001b[49m\u001b[43m,\u001b[49m\u001b[43m \u001b[49m\u001b[43mseed\u001b[49m\u001b[38;5;241;43m=\u001b[39;49m\u001b[43mi\u001b[49m\u001b[43m)\u001b[49m\n\u001b[1;32m      7\u001b[0m     meanS \u001b[38;5;241m+\u001b[39m\u001b[38;5;241m=\u001b[39m score\n\u001b[1;32m      8\u001b[0m     meanT \u001b[38;5;241m+\u001b[39m\u001b[38;5;241m=\u001b[39m t\n",
      "Cell \u001b[0;32mIn[31], line 14\u001b[0m, in \u001b[0;36mcompute_TRS\u001b[0;34m(train1, train2, valid, n, seed)\u001b[0m\n\u001b[1;32m     12\u001b[0m \u001b[38;5;66;03m# 집단 1,2 에 대해 self 교집합을 구한다.\u001b[39;00m\n\u001b[1;32m     13\u001b[0m train1_intersection \u001b[38;5;241m=\u001b[39m self_intersection_n(train1, n, seed)\n\u001b[0;32m---> 14\u001b[0m train2_intersection \u001b[38;5;241m=\u001b[39m \u001b[43mself_intersection_n\u001b[49m\u001b[43m(\u001b[49m\u001b[43mtrain2\u001b[49m\u001b[43m,\u001b[49m\u001b[43m \u001b[49m\u001b[43mn\u001b[49m\u001b[43m,\u001b[49m\u001b[43m \u001b[49m\u001b[43mseed\u001b[49m\u001b[43m)\u001b[49m\n\u001b[1;32m     16\u001b[0m \u001b[38;5;66;03m# 집단 1,2 self 교집합끼리의 교집합을 구해 전체 교집합을 구한다.\u001b[39;00m\n\u001b[1;32m     17\u001b[0m intersection \u001b[38;5;241m=\u001b[39m train1_intersection \u001b[38;5;241m&\u001b[39m train2_intersection\n",
      "Cell \u001b[0;32mIn[1], line 23\u001b[0m, in \u001b[0;36mself_intersection_n\u001b[0;34m(dataset, n, seed)\u001b[0m\n\u001b[1;32m     21\u001b[0m     \u001b[38;5;28;01mfor\u001b[39;00m i \u001b[38;5;129;01min\u001b[39;00m embeddings:\n\u001b[1;32m     22\u001b[0m         \u001b[38;5;28;01mfor\u001b[39;00m j \u001b[38;5;129;01min\u001b[39;00m i:\n\u001b[0;32m---> 23\u001b[0m             token_split[k]\u001b[38;5;241m.\u001b[39madd(j)\n\u001b[1;32m     25\u001b[0m \u001b[38;5;66;03m# 모든 set들의 교집합을 구히여 self 교집합을 구한다.\u001b[39;00m\n\u001b[1;32m     26\u001b[0m self_intersection \u001b[38;5;241m=\u001b[39m token_split[\u001b[38;5;241m0\u001b[39m]\n",
      "\u001b[0;31mKeyboardInterrupt\u001b[0m: "
     ]
    }
   ],
   "source": [
    "# seed 0~30 까지로 shuffle 하면서 평균 점수 구해본다. 2중 포문으로 n도 늘려봐도 됨.\n",
    "for n in range(30, 100, 5):\n",
    "    meanS = 0\n",
    "    meanT = 0\n",
    "    for i in range(10):\n",
    "        score, t = compute_TRS(old_data, underage_data, underage_val, n=n, seed=i)\n",
    "        meanS += score\n",
    "        meanT += t\n",
    "    print(meanS/10, meanT/10)"
   ]
  },
  {
   "cell_type": "code",
   "execution_count": null,
   "id": "87c12e97-5e96-4260-8773-5fd83db260ed",
   "metadata": {},
   "outputs": [],
   "source": [
    "'''\n",
    "간단하게 n 마다 seed 10가지만 간략히 돌려본것. 100개씩은 돌려봐야 좀 신뢰도 있을거 같긴함.\n",
    "1 85%\n",
    "2 95%\n",
    "3 96%\n",
    "4 98.4%\n",
    "5 98.2%\n",
    "6 98.6%\n",
    "7 99.6% (여기부터 거의 100% 뜨네)\n",
    "8 99.5%\n",
    "9 99.8%\n",
    "10 99.8%\n",
    "11 100%\n",
    "12 100%\n",
    "13 100%\n",
    "14 99.2 (이상치 때문에) 근데 n을 늘릴수록 이상치가 나올 확률도 적어지는듯? 더 적게 뽑히는 대신 더 빡센 검증을 통해 뽑잖어\n",
    "15 100 | 코어 20개 정도\n",
    "16 100\n",
    "17 99 | 코어 15개 정도 (1개만 반대로 갔는데 절대적인 수가 적어서 점수가 뚝떨어진다)\n",
    "18 99\n",
    "19 99\n",
    "20 99\n",
    "30 100 | 7개 (코어 뽑는게 빡세져서 슬슬 이상치도 안나오는듯 100까지 돌려보고싶다)\n",
    "35 100 | 5개\n",
    "40 100 | 3개\n",
    "45 100 | 3개\n",
    "50\n",
    "55\n",
    "확실히 3일때는 3:140 이정도였는데,14에서 0:20 정도로 떨어진다. 적게 뽑아도 확실한 코어 토큰을 뽑는게 나은건가\n",
    "다음에는 비율말고 절대점수는 얼마나 떨어지는지 보자. 비율을 그대로여도 절대적인 점수는 떨어질거라고 생각한다.\n",
    "근데 뭘 평가 하고싶은거지. bleu 같은 표준 llm 성능? 이건 그런쪽보다 GAN 평가방식 쪽 애들이랑 비교해야할듯 fid라던가.\n"
   ]
  }
 ],
 "metadata": {
  "kernelspec": {
   "display_name": "Python 3.10",
   "language": "python",
   "name": "python3"
  },
  "language_info": {
   "codemirror_mode": {
    "name": "ipython",
    "version": 3
   },
   "file_extension": ".py",
   "mimetype": "text/x-python",
   "name": "python",
   "nbconvert_exporter": "python",
   "pygments_lexer": "ipython3",
   "version": "3.10.12"
  }
 },
 "nbformat": 4,
 "nbformat_minor": 5
}
